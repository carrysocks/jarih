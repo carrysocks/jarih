{
 "cells": [
  {
   "cell_type": "code",
   "execution_count": null,
   "metadata": {},
   "outputs": [],
   "source": [
    "import pandas as pd"
   ]
  },
  {
   "cell_type": "code",
   "execution_count": null,
   "metadata": {},
   "outputs": [],
   "source": [
    "#get data\n",
    "data1 = pd.read_csv('3_01_to_3_20_final.csv')\n",
    "data2 = pd.read_csv('3_20_to_4_13_final.csv')\n",
    "data3 = pd.read_csv('4_14_to_5_9_final.csv')"
   ]
  },
  {
   "cell_type": "code",
   "execution_count": null,
   "metadata": {},
   "outputs": [],
   "source": [
    "frames = [data1, data2, data3]\n",
    "data = pd.concat(frames)"
   ]
  },
  {
   "cell_type": "code",
   "execution_count": null,
   "metadata": {},
   "outputs": [],
   "source": [
    "#Data Preprocessing\n",
    "data['date_time'] = pd.to_datetime(data['date_time'], format='%Y-%m-%d %H:%M:%S')\n",
    "data['date_time'] = data['date_time'].dt.tz_convert('Asia/Seoul')\n",
    "data = data[data['remaining_seats'] != -1]\n",
    "data['date_time'] = data['date_time'] + pd.Timedelta(hours=9)\n",
    "data['day_of_week'] = data['date_time'].dt.dayofweek\n",
    "data['is_weekend'] = (data['day_of_week'] >= 5).astype(int)"
   ]
  },
  {
   "cell_type": "code",
   "execution_count": null,
   "metadata": {},
   "outputs": [],
   "source": [
    "data['date_time'] = pd.to_datetime(data['date_time'])\n",
    "data['hour'] = data['date_time'].dt.hour\n",
    "data['min'] = data['date_time'].dt.minute\n",
    "data['day_of_week'] = data['date_time'].dt.dayofweek\n",
    "data['min'] = data['min'] // 10"
   ]
  },
  {
   "cell_type": "code",
   "execution_count": null,
   "metadata": {},
   "outputs": [],
   "source": [
    "value_counts = data['route_id'].value_counts()\n",
    "value_counts.to_csv('value_counts.csv', sep=\",\")"
   ]
  },
  {
   "cell_type": "code",
   "execution_count": null,
   "metadata": {},
   "outputs": [],
   "source": [
    "values = pd.read_csv('./value_counts.csv')"
   ]
  },
  {
   "cell_type": "code",
   "execution_count": null,
   "metadata": {},
   "outputs": [],
   "source": [
    "#Split bus route datas\n",
    "column_list = values['route_name'].tolist()\n",
    "\n",
    "for route in column_list:\n",
    "    tempdata = data[data['route_id'] == route]\n",
    "    temppath = f\"./Service_route/{route}.csv\"\n",
    "    tempdata.to_csv(temppath)"
   ]
  }
 ],
 "metadata": {
  "kernelspec": {
   "display_name": "Python 3",
   "language": "python",
   "name": "python3"
  },
  "language_info": {
   "codemirror_mode": {
    "name": "ipython",
    "version": 3
   },
   "file_extension": ".py",
   "mimetype": "text/x-python",
   "name": "python",
   "nbconvert_exporter": "python",
   "pygments_lexer": "ipython3",
   "version": "3.8.0"
  },
  "orig_nbformat": 4
 },
 "nbformat": 4,
 "nbformat_minor": 2
}
